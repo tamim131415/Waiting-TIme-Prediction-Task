{
 "cells": [
  {
   "cell_type": "markdown",
   "metadata": {},
   "source": [
    "## Data pre-processing"
   ]
  },
  {
   "cell_type": "markdown",
   "metadata": {},
   "source": [
    "### Import Library"
   ]
  },
  {
   "cell_type": "code",
   "execution_count": 2,
   "metadata": {},
   "outputs": [],
   "source": [
    "import pandas as pd\n",
    "import matplotlib.pyplot as plt\n",
    "import seaborn as sns\n",
    "from sklearn.preprocessing import LabelEncoder\n"
   ]
  },
  {
   "cell_type": "markdown",
   "metadata": {},
   "source": [
    "### Load dataset"
   ]
  },
  {
   "cell_type": "code",
   "execution_count": 3,
   "metadata": {},
   "outputs": [],
   "source": [
    "# Load the dataset\n",
    "raw_df = pd.read_csv('Dataset/Formatted-dataset.csv')"
   ]
  },
  {
   "cell_type": "markdown",
   "metadata": {},
   "source": [
    "### Removing Missing Values and \"\\N\" from rows"
   ]
  },
  {
   "cell_type": "code",
   "execution_count": 10,
   "metadata": {},
   "outputs": [
    {
     "name": "stdout",
     "output_type": "stream",
     "text": [
      "False\n"
     ]
    }
   ],
   "source": [
    "print(raw_df.isnull().values.any())"
   ]
  },
  {
   "cell_type": "code",
   "execution_count": 13,
   "metadata": {},
   "outputs": [
    {
     "data": {
      "text/html": [
       "<div>\n",
       "<style scoped>\n",
       "    .dataframe tbody tr th:only-of-type {\n",
       "        vertical-align: middle;\n",
       "    }\n",
       "\n",
       "    .dataframe tbody tr th {\n",
       "        vertical-align: top;\n",
       "    }\n",
       "\n",
       "    .dataframe thead th {\n",
       "        text-align: right;\n",
       "    }\n",
       "</style>\n",
       "<table border=\"1\" class=\"dataframe\">\n",
       "  <thead>\n",
       "    <tr style=\"text-align: right;\">\n",
       "      <th></th>\n",
       "      <th>SDST</th>\n",
       "      <th>SDET</th>\n",
       "      <th>SERVICE_NAME</th>\n",
       "      <th>TKIS_TIME</th>\n",
       "    </tr>\n",
       "  </thead>\n",
       "  <tbody>\n",
       "    <tr>\n",
       "      <th>0</th>\n",
       "      <td>2020-07-28 13:37:12</td>\n",
       "      <td>2020-07-28 13:37:25</td>\n",
       "      <td>Deposit (Current/SND)</td>\n",
       "      <td>2020-07-28 13:37:11</td>\n",
       "    </tr>\n",
       "    <tr>\n",
       "      <th>1</th>\n",
       "      <td>2020-07-28 13:37:25</td>\n",
       "      <td>2020-07-28 13:37:27</td>\n",
       "      <td>Withdrawal (Current/SND)</td>\n",
       "      <td>2020-07-28 13:37:18</td>\n",
       "    </tr>\n",
       "    <tr>\n",
       "      <th>2</th>\n",
       "      <td>2020-07-28 15:37:47</td>\n",
       "      <td>2020-07-28 15:37:49</td>\n",
       "      <td>Withdrawal</td>\n",
       "      <td>2020-07-28 15:36:45</td>\n",
       "    </tr>\n",
       "    <tr>\n",
       "      <th>3</th>\n",
       "      <td>2020-07-28 15:46:07</td>\n",
       "      <td>2020-07-28 16:04:53</td>\n",
       "      <td>Debit Card</td>\n",
       "      <td>2020-07-28 15:38:52</td>\n",
       "    </tr>\n",
       "    <tr>\n",
       "      <th>4</th>\n",
       "      <td>2020-07-28 15:40:56</td>\n",
       "      <td>2020-07-28 15:41:49</td>\n",
       "      <td>Agent</td>\n",
       "      <td>2020-07-28 15:40:55</td>\n",
       "    </tr>\n",
       "  </tbody>\n",
       "</table>\n",
       "</div>"
      ],
      "text/plain": [
       "                  SDST                 SDET              SERVICE_NAME  \\\n",
       "0  2020-07-28 13:37:12  2020-07-28 13:37:25     Deposit (Current/SND)   \n",
       "1  2020-07-28 13:37:25  2020-07-28 13:37:27  Withdrawal (Current/SND)   \n",
       "2  2020-07-28 15:37:47  2020-07-28 15:37:49                Withdrawal   \n",
       "3  2020-07-28 15:46:07  2020-07-28 16:04:53                Debit Card   \n",
       "4  2020-07-28 15:40:56  2020-07-28 15:41:49                     Agent   \n",
       "\n",
       "             TKIS_TIME  \n",
       "0  2020-07-28 13:37:11  \n",
       "1  2020-07-28 13:37:18  \n",
       "2  2020-07-28 15:36:45  \n",
       "3  2020-07-28 15:38:52  \n",
       "4  2020-07-28 15:40:55  "
      ]
     },
     "execution_count": 13,
     "metadata": {},
     "output_type": "execute_result"
    }
   ],
   "source": [
    "# Drop rows where any column contains the value '\\N'\n",
    "df = raw_df[~raw_df.isin(['\\\\N']).any(axis=1)]\n",
    "df.head(5)\n"
   ]
  },
  {
   "cell_type": "code",
   "execution_count": 16,
   "metadata": {},
   "outputs": [
    {
     "name": "stdout",
     "output_type": "stream",
     "text": [
      "Before removing \"\\N\" the shape is: (285357, 4)\n",
      "After removing \"\\N\" the shape is: (280046, 4)\n"
     ]
    }
   ],
   "source": [
    "print(f'Before removing \\\"\\\\N\\\" the shape is: {raw_df.shape}')\n",
    "print(f'After removing \\\"\\\\N\\\" the shape is: {df.shape}')"
   ]
  },
  {
   "cell_type": "markdown",
   "metadata": {},
   "source": [
    "### Performing Label Encoding on SERVICE_NAME"
   ]
  },
  {
   "cell_type": "code",
   "execution_count": 18,
   "metadata": {},
   "outputs": [
    {
     "name": "stdout",
     "output_type": "stream",
     "text": [
      "Label Encoding Mapping (SERVICE_NAME -> Encoded Value):\n",
      "A/C Opening: 1\n",
      "Account Modification / Update: 2\n",
      "Accounts: 3\n",
      "Agent: 4\n",
      "Bill: 5\n",
      "Certificate: 6\n",
      "Cheque Book: 7\n",
      "Clearing Cheque: 8\n",
      "Credit Card: 9\n",
      "Credit Card Payment: 10\n",
      "Customer(Mobile Banking): 11\n",
      "DPS: 12\n",
      "Debit Card: 13\n",
      "Deposit: 14\n",
      "Deposit (Current/SND): 15\n",
      "FDR: 16\n",
      "Foreign Remittance: 17\n",
      "Fund Transfer: 18\n",
      "Internet Banking/2FA: 19\n",
      "P/O By Cash: 20\n",
      "P/O By Cheque: 21\n",
      "Prize Bond: 22\n",
      "Sanchay Patra: 23\n",
      "Shipping Guarantee: 24\n",
      "Statement: 25\n",
      "Torn Note Exchange: 26\n",
      "VIP Banking Customer: 27\n",
      "Withdrawal: 28\n",
      "Withdrawal (Current/SND): 29\n",
      "Women Entrepreneurship Loan: 30\n",
      "\n",
      "Updated DataFrame preview:\n",
      "                       SDST                 SDET SERVICE_NAME  \\\n",
      "285343  2022-03-02 14:21:55  2022-03-02 14:24:27      Deposit   \n",
      "285344  2022-03-02 14:24:27  2022-03-02 14:27:51      Deposit   \n",
      "285346  2022-03-02 14:27:51  2022-03-02 14:28:06      Deposit   \n",
      "285348  2022-03-02 14:30:49  2022-03-02 14:32:01   Withdrawal   \n",
      "285349  2022-03-02 14:28:06  2022-03-02 14:28:15      Deposit   \n",
      "\n",
      "                  TKIS_TIME  encoded_service_name  \n",
      "285343  2022-03-02 14:19:24                    14  \n",
      "285344  2022-03-02 14:19:53                    14  \n",
      "285346  2022-03-02 14:20:48                    14  \n",
      "285348  2022-03-02 14:22:22                    28  \n",
      "285349  2022-03-02 14:23:41                    14  \n"
     ]
    }
   ],
   "source": [
    "df = df.copy()\n",
    "# Initialize the LabelEncoder\n",
    "label_encoder = LabelEncoder()\n",
    "\n",
    "# Apply label encoding to the SERVICE_NAME column\n",
    "df['encoded_service_name'] = label_encoder.fit_transform(df['SERVICE_NAME']) + 1\n",
    "\n",
    "# Display label names and their corresponding values\n",
    "label_mapping = dict(zip(label_encoder.classes_, label_encoder.transform(label_encoder.classes_)+1))\n",
    "print(\"Label Encoding Mapping (SERVICE_NAME -> Encoded Value):\")\n",
    "for label, value in label_mapping.items():\n",
    "    print(f\"{label}: {value}\")\n",
    "\n",
    "# Display a preview of the updated DataFrame\n",
    "print(\"\\nUpdated DataFrame preview:\")\n",
    "print(df.tail(5))\n"
   ]
  },
  {
   "cell_type": "markdown",
   "metadata": {},
   "source": [
    "### Calculation of waiting time"
   ]
  },
  {
   "cell_type": "code",
   "execution_count": 19,
   "metadata": {},
   "outputs": [
    {
     "name": "stdout",
     "output_type": "stream",
     "text": [
      "Updated DataFrame with waiting time:\n",
      "                 SDST           TKIS_TIME  waiting_time\n",
      "0 2020-07-28 13:37:12 2020-07-28 13:37:11           1.0\n",
      "1 2020-07-28 13:37:25 2020-07-28 13:37:18           7.0\n",
      "2 2020-07-28 15:37:47 2020-07-28 15:36:45          62.0\n",
      "3 2020-07-28 15:46:07 2020-07-28 15:38:52         435.0\n",
      "4 2020-07-28 15:40:56 2020-07-28 15:40:55           1.0\n"
     ]
    }
   ],
   "source": [
    "# Ensure the columns are in datetime format\n",
    "df['SDST'] = pd.to_datetime(df['SDST'], errors='coerce')\n",
    "df['TKIS_TIME'] = pd.to_datetime(df['TKIS_TIME'], errors='coerce')\n",
    "\n",
    "# Calculate waiting time (difference between SDST and TKIS_TIME)\n",
    "df['waiting_time'] = (df['SDST'] - df['TKIS_TIME']).dt.total_seconds()\n",
    "\n",
    "# Display results\n",
    "print(\"Updated DataFrame with waiting time:\")\n",
    "print(df[['SDST', 'TKIS_TIME', 'waiting_time']].head(5))\n"
   ]
  },
  {
   "cell_type": "markdown",
   "metadata": {},
   "source": [
    "### Feature Extraction (Seconds, Day, Month, Year) From Arrival Time"
   ]
  },
  {
   "cell_type": "code",
   "execution_count": 20,
   "metadata": {},
   "outputs": [
    {
     "data": {
      "text/html": [
       "<div>\n",
       "<style scoped>\n",
       "    .dataframe tbody tr th:only-of-type {\n",
       "        vertical-align: middle;\n",
       "    }\n",
       "\n",
       "    .dataframe tbody tr th {\n",
       "        vertical-align: top;\n",
       "    }\n",
       "\n",
       "    .dataframe thead th {\n",
       "        text-align: right;\n",
       "    }\n",
       "</style>\n",
       "<table border=\"1\" class=\"dataframe\">\n",
       "  <thead>\n",
       "    <tr style=\"text-align: right;\">\n",
       "      <th></th>\n",
       "      <th>SDST</th>\n",
       "      <th>SDET</th>\n",
       "      <th>SERVICE_NAME</th>\n",
       "      <th>TKIS_TIME</th>\n",
       "      <th>encoded_service_name</th>\n",
       "      <th>waiting_time</th>\n",
       "      <th>arrival_time</th>\n",
       "      <th>arrival_day</th>\n",
       "      <th>arrival_month</th>\n",
       "      <th>arrival_year</th>\n",
       "    </tr>\n",
       "  </thead>\n",
       "  <tbody>\n",
       "    <tr>\n",
       "      <th>285343</th>\n",
       "      <td>2022-03-02 14:21:55</td>\n",
       "      <td>2022-03-02 14:24:27</td>\n",
       "      <td>Deposit</td>\n",
       "      <td>2022-03-02 14:19:24</td>\n",
       "      <td>14</td>\n",
       "      <td>151.0</td>\n",
       "      <td>51564</td>\n",
       "      <td>2</td>\n",
       "      <td>3</td>\n",
       "      <td>2022</td>\n",
       "    </tr>\n",
       "    <tr>\n",
       "      <th>285344</th>\n",
       "      <td>2022-03-02 14:24:27</td>\n",
       "      <td>2022-03-02 14:27:51</td>\n",
       "      <td>Deposit</td>\n",
       "      <td>2022-03-02 14:19:53</td>\n",
       "      <td>14</td>\n",
       "      <td>274.0</td>\n",
       "      <td>51593</td>\n",
       "      <td>2</td>\n",
       "      <td>3</td>\n",
       "      <td>2022</td>\n",
       "    </tr>\n",
       "    <tr>\n",
       "      <th>285346</th>\n",
       "      <td>2022-03-02 14:27:51</td>\n",
       "      <td>2022-03-02 14:28:06</td>\n",
       "      <td>Deposit</td>\n",
       "      <td>2022-03-02 14:20:48</td>\n",
       "      <td>14</td>\n",
       "      <td>423.0</td>\n",
       "      <td>51648</td>\n",
       "      <td>2</td>\n",
       "      <td>3</td>\n",
       "      <td>2022</td>\n",
       "    </tr>\n",
       "    <tr>\n",
       "      <th>285348</th>\n",
       "      <td>2022-03-02 14:30:49</td>\n",
       "      <td>2022-03-02 14:32:01</td>\n",
       "      <td>Withdrawal</td>\n",
       "      <td>2022-03-02 14:22:22</td>\n",
       "      <td>28</td>\n",
       "      <td>507.0</td>\n",
       "      <td>51742</td>\n",
       "      <td>2</td>\n",
       "      <td>3</td>\n",
       "      <td>2022</td>\n",
       "    </tr>\n",
       "    <tr>\n",
       "      <th>285349</th>\n",
       "      <td>2022-03-02 14:28:06</td>\n",
       "      <td>2022-03-02 14:28:15</td>\n",
       "      <td>Deposit</td>\n",
       "      <td>2022-03-02 14:23:41</td>\n",
       "      <td>14</td>\n",
       "      <td>265.0</td>\n",
       "      <td>51821</td>\n",
       "      <td>2</td>\n",
       "      <td>3</td>\n",
       "      <td>2022</td>\n",
       "    </tr>\n",
       "  </tbody>\n",
       "</table>\n",
       "</div>"
      ],
      "text/plain": [
       "                      SDST                 SDET SERVICE_NAME  \\\n",
       "285343 2022-03-02 14:21:55  2022-03-02 14:24:27      Deposit   \n",
       "285344 2022-03-02 14:24:27  2022-03-02 14:27:51      Deposit   \n",
       "285346 2022-03-02 14:27:51  2022-03-02 14:28:06      Deposit   \n",
       "285348 2022-03-02 14:30:49  2022-03-02 14:32:01   Withdrawal   \n",
       "285349 2022-03-02 14:28:06  2022-03-02 14:28:15      Deposit   \n",
       "\n",
       "                 TKIS_TIME  encoded_service_name  waiting_time  arrival_time  \\\n",
       "285343 2022-03-02 14:19:24                    14         151.0         51564   \n",
       "285344 2022-03-02 14:19:53                    14         274.0         51593   \n",
       "285346 2022-03-02 14:20:48                    14         423.0         51648   \n",
       "285348 2022-03-02 14:22:22                    28         507.0         51742   \n",
       "285349 2022-03-02 14:23:41                    14         265.0         51821   \n",
       "\n",
       "        arrival_day  arrival_month  arrival_year  \n",
       "285343            2              3          2022  \n",
       "285344            2              3          2022  \n",
       "285346            2              3          2022  \n",
       "285348            2              3          2022  \n",
       "285349            2              3          2022  "
      ]
     },
     "execution_count": 20,
     "metadata": {},
     "output_type": "execute_result"
    }
   ],
   "source": [
    "# Ensure TKIS_TIME is in datetime format\n",
    "df['TKIS_TIME'] = pd.to_datetime(df['TKIS_TIME'], errors='coerce')\n",
    "\n",
    "# Feature 1: Convert arrival time into seconds\n",
    "df['arrival_time'] = df['TKIS_TIME'].dt.hour * 3600 + df['TKIS_TIME'].dt.minute * 60 + df['TKIS_TIME'].dt.second\n",
    "\n",
    "# Feature 2: Extract only the day (date without month and year)\n",
    "df['arrival_day'] = df['TKIS_TIME'].dt.day\n",
    "\n",
    "# Feature 3: Extract arrival month (numeric month)\n",
    "df['arrival_month'] = df['TKIS_TIME'].dt.month  \n",
    "\n",
    "# Feature 4: Extract arrival month (numeric month)\n",
    "df['arrival_year'] = df['TKIS_TIME'].dt.year\n",
    "\n",
    "# Display the updated DataFrame with new columns\n",
    "# print(df[['TKIS_TIME', 'arrival_time_seconds', 'arrival_day', 'arrival_month', 'arrival_year']].head(5))\n",
    "df.tail(5)"
   ]
  },
  {
   "cell_type": "code",
   "execution_count": 22,
   "metadata": {},
   "outputs": [],
   "source": [
    "# Save the updated dataset to a new CSV file\n",
    "df.to_csv('pre_processed_dataset.csv', index=False)"
   ]
  },
  {
   "cell_type": "markdown",
   "metadata": {},
   "source": [
    "Feature Importance"
   ]
  },
  {
   "cell_type": "code",
   "execution_count": 14,
   "metadata": {},
   "outputs": [
    {
     "data": {
      "image/png": "[encoded data removed]",
      "text/plain": [
       "<Figure size 1000x600 with 1 Axes>"
      ]
     },
     "metadata": {},
     "output_type": "display_data"
    },
    {
     "name": "stdout",
     "output_type": "stream",
     "text": [
      "encoded_SERVICE_NAME: 0.0051\n",
      "SDST_SECONDS: 0.5773\n",
      "SDET_SECONDS: 0.0131\n",
      "TKIS_SECONDS: 0.4045\n"
     ]
    }
   ],
   "source": [
    "import pandas as pd\n",
    "import numpy as np\n",
    "import matplotlib.pyplot as plt\n",
    "from sklearn.ensemble import RandomForestRegressor\n",
    "from sklearn.preprocessing import LabelEncoder\n",
    "from sklearn.model_selection import train_test_split\n",
    "\n",
    "# Load the dataset\n",
    "df = pd.read_csv('updated_dataset_with_waiting_time.csv')\n",
    "\n",
    "# Ensure relevant columns are numeric and clean data\n",
    "df['encoded_SERVICE_NAME'] = pd.to_numeric(df['encoded_SERVICE_NAME'], errors='coerce')\n",
    "df['waiting_time'] = pd.to_numeric(df['waiting_time'], errors='coerce')\n",
    "df['SDST'] = pd.to_datetime(df['SDST'], errors='coerce')\n",
    "df['SDET'] = pd.to_datetime(df['SDET'], errors='coerce')\n",
    "df['TKIS_TIME'] = pd.to_datetime(df['TKIS_TIME'], errors='coerce')\n",
    "\n",
    "# Drop rows with missing or zero waiting time values\n",
    "df = df.dropna(subset=['encoded_SERVICE_NAME', 'waiting_time', 'SDST', 'SDET', 'TKIS_TIME'])\n",
    "# df = df[df['waiting_time'] > 0]  # Remove rows where waiting_time is 0\n",
    "\n",
    "# Convert datetime columns to numerical features (seconds since the start of the day)\n",
    "df['SDST_SECONDS'] = df['SDST'].dt.hour * 3600 + df['SDST'].dt.minute * 60 + df['SDST'].dt.second\n",
    "df['SDET_SECONDS'] = df['SDET'].dt.hour * 3600 + df['SDET'].dt.minute * 60 + df['SDET'].dt.second\n",
    "df['TKIS_SECONDS'] = df['TKIS_TIME'].dt.hour * 3600 + df['TKIS_TIME'].dt.minute * 60 + df['TKIS_TIME'].dt.second\n",
    "\n",
    "# Define features (X) and target (y)\n",
    "X = df[['encoded_SERVICE_NAME', 'SDST_SECONDS', 'SDET_SECONDS', 'TKIS_SECONDS']]\n",
    "y = df['waiting_time']\n",
    "\n",
    "# Split data into training and testing sets (80% train, 20% test)\n",
    "X_train, X_test, y_train, y_test = train_test_split(X, y, test_size=0.2, random_state=42)\n",
    "\n",
    "# Train a Random Forest Regressor\n",
    "rf_model = RandomForestRegressor(n_estimators=100, random_state=42)\n",
    "rf_model.fit(X_train, y_train)\n",
    "\n",
    "# Get feature importance scores\n",
    "feature_importances = rf_model.feature_importances_\n",
    "features = X.columns\n",
    "\n",
    "# Plot feature importance\n",
    "plt.figure(figsize=(10, 6))\n",
    "plt.barh(features, feature_importances, color='skyblue')\n",
    "plt.xlabel('Feature Importance Score', fontsize=12)\n",
    "plt.ylabel('Features', fontsize=12)\n",
    "plt.title('Feature Importance for Predicting Waiting Time', fontsize=16)\n",
    "plt.tight_layout()\n",
    "plt.show()\n",
    "\n",
    "# Print feature importance scores\n",
    "for feature, importance in zip(features, feature_importances):\n",
    "    print(f\"{feature}: {importance:.4f}\")\n"
   ]
  },
  {
   "cell_type": "markdown",
   "metadata": {},
   "source": [
    "Feature Importance"
   ]
  },
  {
   "cell_type": "code",
   "execution_count": 5,
   "metadata": {},
   "outputs": [
    {
     "name": "stdout",
     "output_type": "stream",
     "text": [
      "Mean Squared Error: 606480.6169820107\n",
      "R-squared: 0.7662946123177541\n"
     ]
    },
    {
     "data": {
      "image/png": "[encoded data removed]",
      "text/plain": [
       "<Figure size 1000x600 with 1 Axes>"
      ]
     },
     "metadata": {},
     "output_type": "display_data"
    },
    {
     "name": "stdout",
     "output_type": "stream",
     "text": [
      "encoded_service_name: 0.1387\n",
      "arrival_time: 0.3488\n",
      "arrival_day: 0.3031\n",
      "arrival_month: 0.2093\n",
      "arrival_year: 0.0000\n"
     ]
    }
   ],
   "source": [
    "import pandas as pd\n",
    "import matplotlib.pyplot as plt\n",
    "from sklearn.ensemble import RandomForestRegressor\n",
    "from sklearn.model_selection import train_test_split\n",
    "from sklearn.metrics import mean_squared_error, r2_score\n",
    "\n",
    "# Load the dataset\n",
    "df = pd.read_csv('pre_processed_dataset.csv')\n",
    "\n",
    "# Ensure relevant columns are numeric and clean data\n",
    "df['encoded_service_name'] = pd.to_numeric(df['encoded_service_name'], errors='coerce')\n",
    "df['arrival_time'] = pd.to_numeric(df['arrival_time'], errors='coerce')\n",
    "df['arrival_day'] = pd.to_numeric(df['arrival_day'], errors='coerce')\n",
    "df['arrival_month'] = pd.to_numeric(df['arrival_month'], errors='coerce')\n",
    "df['arrival_year'] = pd.to_datetime(df['arrival_year'], errors='coerce').dt.year  # Extract arrival year\n",
    "\n",
    "# Drop rows with missing values\n",
    "df = df.dropna(subset=['waiting_time', 'encoded_service_name', 'arrival_time', 'arrival_day', 'arrival_month', 'arrival_year'])\n",
    "\n",
    "# Define features (X) and target (y)\n",
    "X = df[['encoded_service_name', 'arrival_time', 'arrival_day', 'arrival_month', 'arrival_year']]\n",
    "y = df['waiting_time']\n",
    "\n",
    "# Split data into training and testing sets (80% train, 20% test)\n",
    "X_train, X_test, y_train, y_test = train_test_split(X, y, test_size=0.2, random_state=42)\n",
    "\n",
    "# 3. Random Forest Regressor Best Parameters: {'n_estimators': 100, 'min_samples_split': 2, 'min_samples_leaf': 1, 'max_features': 'sqrt', 'max_depth': 30}\n",
    "rfr_model = RandomForestRegressor(\n",
    "    n_estimators=100,\n",
    "    min_samples_split=2,\n",
    "    min_samples_leaf=1,\n",
    "    max_features=\"sqrt\",\n",
    "    max_depth=30,\n",
    "    random_state=42,\n",
    ")\n",
    "\n",
    "# Train a Random Forest Regressor\n",
    "# rf_model = RandomForestRegressor(n_estimators=500, random_state=42)\n",
    "rf_model.fit(X_train, y_train)\n",
    "\n",
    "# Predict on the test set\n",
    "y_pred = rf_model.predict(X_test)\n",
    "\n",
    "# Evaluate performance\n",
    "mse = mean_squared_error(y_test, y_pred)\n",
    "r2 = r2_score(y_test, y_pred)\n",
    "print(f\"Mean Squared Error: {mse}\")\n",
    "print(f\"R-squared: {r2}\")\n",
    "\n",
    "# Get feature importance scores\n",
    "feature_importances = rf_model.feature_importances_\n",
    "features = X.columns\n",
    "\n",
    "# Plot feature importance\n",
    "plt.figure(figsize=(10, 6))\n",
    "plt.barh(features, feature_importances, color='skyblue')\n",
    "plt.xlabel('Feature Importance Score', fontsize=12)\n",
    "plt.ylabel('Features', fontsize=12)\n",
    "plt.title('Feature Importance for Predicting Waiting Time', fontsize=16)\n",
    "plt.tight_layout()\n",
    "plt.show()\n",
    "\n",
    "# Print feature importance scores\n",
    "for feature, importance in zip(features, feature_importances):\n",
    "    print(f\"{feature}: {importance:.4f}\")\n"
   ]
  }
 ],
 "metadata": {
  "kernelspec": {
   "display_name": "Python 3",
   "language": "python",
   "name": "python3"
  },
  "language_info": {
   "codemirror_mode": {
    "name": "ipython",
    "version": 3
   },
   "file_extension": ".py",
   "mimetype": "text/x-python",
   "name": "python",
   "nbconvert_exporter": "python",
   "pygments_lexer": "ipython3",
   "version": "3.12.6"
  }
 },
 "nbformat": 4,
 "nbformat_minor": 2
}
